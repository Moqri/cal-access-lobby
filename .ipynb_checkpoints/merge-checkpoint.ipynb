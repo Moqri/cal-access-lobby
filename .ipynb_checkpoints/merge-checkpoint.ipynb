{
 "cells": [
  {
   "cell_type": "code",
   "execution_count": 1,
   "metadata": {
    "collapsed": false
   },
   "outputs": [],
   "source": [
    "import pandas as pd\n",
    "pd.options.display.max_columns=99\n",
    "pd.options.display.max_rows=999\n",
    "\n",
    "%matplotlib inline"
   ]
  },
  {
   "cell_type": "code",
   "execution_count": 3,
   "metadata": {
    "collapsed": false,
    "scrolled": true
   },
   "outputs": [
    {
     "name": "stderr",
     "output_type": "stream",
     "text": [
      "Skipping line 2959: expected 52 fields, saw 87\n",
      "Skipping line 4759: expected 52 fields, saw 53\n",
      "Skipping line 7500: expected 52 fields, saw 53\n",
      "Skipping line 13495: expected 52 fields, saw 53\n",
      "\n",
      "Skipping line 17505: expected 52 fields, saw 53\n",
      "Skipping line 19109: expected 52 fields, saw 53\n",
      "Skipping line 21168: expected 52 fields, saw 53\n",
      "Skipping line 23740: expected 52 fields, saw 53\n",
      "Skipping line 25799: expected 52 fields, saw 53\n",
      "Skipping line 32030: expected 52 fields, saw 53\n",
      "\n",
      "Skipping line 33176: expected 52 fields, saw 53\n",
      "Skipping line 36127: expected 52 fields, saw 53\n",
      "Skipping line 43421: expected 52 fields, saw 53\n",
      "Skipping line 46592: expected 52 fields, saw 53\n",
      "Skipping line 48789: expected 52 fields, saw 53\n",
      "\n",
      "Skipping line 50834: expected 52 fields, saw 53\n",
      "Skipping line 53211: expected 52 fields, saw 53\n",
      "Skipping line 55048: expected 52 fields, saw 53\n",
      "Skipping line 55294: expected 52 fields, saw 53\n",
      "Skipping line 57281: expected 52 fields, saw 53\n",
      "Skipping line 59776: expected 52 fields, saw 53\n",
      "Skipping line 64808: expected 52 fields, saw 53\n",
      "\n",
      "Skipping line 73924: expected 52 fields, saw 53\n",
      "Skipping line 77601: expected 52 fields, saw 53\n",
      "Skipping line 77751: expected 52 fields, saw 91\n",
      "Skipping line 79730: expected 52 fields, saw 53\n",
      "Skipping line 81273: expected 52 fields, saw 53\n",
      "\n",
      "Skipping line 82735: expected 52 fields, saw 53\n",
      "Skipping line 87180: expected 52 fields, saw 56\n",
      "Skipping line 87496: expected 52 fields, saw 60\n",
      "Skipping line 87499: expected 52 fields, saw 54\n",
      "Skipping line 87513: expected 52 fields, saw 54\n",
      "Skipping line 87652: expected 52 fields, saw 54\n",
      "Skipping line 87753: expected 52 fields, saw 54\n",
      "Skipping line 90668: expected 52 fields, saw 54\n",
      "Skipping line 91000: expected 52 fields, saw 62\n",
      "Skipping line 91006: expected 52 fields, saw 61\n",
      "Skipping line 91018: expected 52 fields, saw 54\n",
      "Skipping line 91074: expected 52 fields, saw 54\n",
      "Skipping line 91338: expected 52 fields, saw 55\n",
      "Skipping line 91428: expected 52 fields, saw 54\n",
      "Skipping line 91671: expected 52 fields, saw 54\n",
      "\n",
      "Skipping line 106428: expected 52 fields, saw 53\n",
      "Skipping line 108435: expected 52 fields, saw 53\n",
      "Skipping line 108499: expected 52 fields, saw 54\n",
      "Skipping line 109175: expected 52 fields, saw 62\n",
      "Skipping line 109795: expected 52 fields, saw 53\n",
      "Skipping line 109796: expected 52 fields, saw 53\n",
      "Skipping line 109888: expected 52 fields, saw 72\n",
      "Skipping line 112696: expected 52 fields, saw 75\n",
      "\n",
      "Skipping line 122463: expected 52 fields, saw 53\n",
      "Skipping line 122608: expected 52 fields, saw 53\n",
      "Skipping line 122785: expected 52 fields, saw 55\n",
      "Skipping line 123834: expected 52 fields, saw 55\n",
      "Skipping line 126363: expected 52 fields, saw 56\n",
      "\n",
      "Skipping line 138247: expected 52 fields, saw 53\n",
      "Skipping line 138898: expected 52 fields, saw 54\n",
      "Skipping line 139256: expected 52 fields, saw 63\n",
      "Skipping line 139985: expected 52 fields, saw 53\n",
      "Skipping line 142100: expected 52 fields, saw 74\n",
      "Skipping line 147040: expected 52 fields, saw 53\n",
      "\n",
      "Skipping line 156407: expected 52 fields, saw 53\n",
      "Skipping line 158772: expected 52 fields, saw 53\n",
      "Skipping line 160737: expected 52 fields, saw 55\n",
      "\n",
      "Skipping line 169031: expected 52 fields, saw 59\n",
      "\n",
      "Skipping line 182373: expected 52 fields, saw 82\n",
      "Skipping line 185237: expected 52 fields, saw 53\n",
      "Skipping line 189446: expected 52 fields, saw 58\n",
      "Skipping line 189855: expected 52 fields, saw 54\n",
      "Skipping line 196802: expected 52 fields, saw 54\n",
      "\n",
      "Skipping line 201333: expected 52 fields, saw 54\n",
      "\n",
      "Skipping line 224034: expected 52 fields, saw 54\n",
      "\n",
      "Skipping line 292233: expected 52 fields, saw 53\n",
      "\n",
      "Skipping line 300061: expected 52 fields, saw 53\n",
      "\n",
      "C:\\Users\\moqri\\AppData\\Local\\Continuum\\Anaconda2\\lib\\site-packages\\IPython\\core\\interactiveshell.py:2723: DtypeWarning: Columns (0,45) have mixed types. Specify dtype option on import or set low_memory=False.\n",
      "  interactivity=interactivity, compiler=compiler, result=result)\n"
     ]
    },
    {
     "data": {
      "text/plain": [
       "(301309, 52)"
      ]
     },
     "execution_count": 3,
     "metadata": {},
     "output_type": "execute_result"
    }
   ],
   "source": [
    "path=\"../data/\"\n",
    "item_file=path+'CVR_LOBBY_DISCLOSURE_CD.TSV'\n",
    "#item=pd.read_table('CVR_LOBBY_DISCLOSURE_CD.TSV', sep='\\t', lineterminator='\\r')\n",
    "doc = open(item_file)\n",
    "cvr = pd.read_table(doc, sep='\\t',error_bad_lines=False)\n",
    "cvr.shape"
   ]
  },
  {
   "cell_type": "code",
   "execution_count": 5,
   "metadata": {
    "collapsed": false
   },
   "outputs": [],
   "source": [
    "#lat=pd.read_table('LATT_CD.TSV',dtype={'FILING_ID':str})\n",
    "#lat.shape"
   ]
  },
  {
   "cell_type": "code",
   "execution_count": null,
   "metadata": {
    "collapsed": false
   },
   "outputs": [],
   "source": [
    "cvr['report_date']=pd.to_datetime(cvr.RPT_DATE,errors='coerce').sort_values()"
   ]
  },
  {
   "cell_type": "code",
   "execution_count": null,
   "metadata": {
    "collapsed": false
   },
   "outputs": [],
   "source": [
    "cvr['report_year']=cvr.report_date.dt.year"
   ]
  },
  {
   "cell_type": "code",
   "execution_count": null,
   "metadata": {
    "collapsed": false
   },
   "outputs": [],
   "source": [
    "cvr=cvr[cvr.report_year==2016].head()"
   ]
  },
  {
   "cell_type": "code",
   "execution_count": null,
   "metadata": {
    "collapsed": false
   },
   "outputs": [],
   "source": [
    "df=item_df[item_df.report_date.dt.year==2016]\n",
    "df.shape"
   ]
  },
  {
   "cell_type": "code",
   "execution_count": 38,
   "metadata": {
    "collapsed": false
   },
   "outputs": [
    {
     "ename": "NameError",
     "evalue": "name 'df' is not defined",
     "output_type": "error",
     "traceback": [
      "\u001b[1;31m\u001b[0m",
      "\u001b[1;31mNameError\u001b[0mTraceback (most recent call last)",
      "\u001b[1;32m<ipython-input-38-895faaffaf37>\u001b[0m in \u001b[0;36m<module>\u001b[1;34m()\u001b[0m\n\u001b[1;32m----> 1\u001b[1;33m \u001b[0mdm\u001b[0m\u001b[1;33m=\u001b[0m\u001b[0mdf\u001b[0m\u001b[1;33m.\u001b[0m\u001b[0mmerge\u001b[0m\u001b[1;33m(\u001b[0m\u001b[0mamount_df\u001b[0m\u001b[1;33m,\u001b[0m\u001b[0mhow\u001b[0m\u001b[1;33m=\u001b[0m\u001b[1;34m'left'\u001b[0m\u001b[1;33m,\u001b[0m\u001b[0mon\u001b[0m\u001b[1;33m=\u001b[0m\u001b[1;34m'FILING_ID'\u001b[0m\u001b[1;33m)\u001b[0m\u001b[1;33m\u001b[0m\u001b[0m\n\u001b[0m",
      "\u001b[1;31mNameError\u001b[0m: name 'df' is not defined"
     ]
    }
   ],
   "source": [
    "dm=df.merge(amount_df,how='left',on='FILING_ID')"
   ]
  },
  {
   "cell_type": "code",
   "execution_count": null,
   "metadata": {
    "collapsed": false
   },
   "outputs": [],
   "source": [
    "dm[dm.AMOUNT>0].head()"
   ]
  },
  {
   "cell_type": "code",
   "execution_count": null,
   "metadata": {
    "collapsed": false
   },
   "outputs": [],
   "source": [
    "dm.sort_values('AMOUNT').shape"
   ]
  },
  {
   "cell_type": "code",
   "execution_count": null,
   "metadata": {
    "collapsed": false
   },
   "outputs": [],
   "source": [
    "item_df[item_df.FILER_ID=='2108076']"
   ]
  },
  {
   "cell_type": "code",
   "execution_count": null,
   "metadata": {
    "collapsed": false
   },
   "outputs": [],
   "source": [
    "df.sort_values('report_date').head()"
   ]
  },
  {
   "cell_type": "code",
   "execution_count": 87,
   "metadata": {
    "collapsed": false,
    "scrolled": true
   },
   "outputs": [
    {
     "name": "stderr",
     "output_type": "stream",
     "text": [
      "Skipping line 6262: expected 26 fields, saw 27\n",
      "Skipping line 6449: expected 26 fields, saw 28\n",
      "Skipping line 6561: expected 26 fields, saw 28\n",
      "Skipping line 8216: expected 26 fields, saw 27\n",
      "Skipping line 8483: expected 26 fields, saw 27\n",
      "Skipping line 8484: expected 26 fields, saw 27\n",
      "Skipping line 9687: expected 26 fields, saw 32\n",
      "Skipping line 9688: expected 26 fields, saw 27\n",
      "Skipping line 10111: expected 26 fields, saw 28\n",
      "Skipping line 12219: expected 26 fields, saw 28\n",
      "Skipping line 12899: expected 26 fields, saw 27\n",
      "Skipping line 13484: expected 26 fields, saw 29\n",
      "Skipping line 13501: expected 26 fields, saw 30\n",
      "Skipping line 13663: expected 26 fields, saw 29\n",
      "Skipping line 13744: expected 26 fields, saw 28\n",
      "Skipping line 15364: expected 26 fields, saw 28\n",
      "Skipping line 15369: expected 26 fields, saw 32\n",
      "Skipping line 15397: expected 26 fields, saw 47\n",
      "Skipping line 15402: expected 26 fields, saw 48\n",
      "Skipping line 15462: expected 26 fields, saw 27\n",
      "Skipping line 16531: expected 26 fields, saw 50\n",
      "Skipping line 16895: expected 26 fields, saw 29\n",
      "Skipping line 17584: expected 26 fields, saw 28\n",
      "Skipping line 18869: expected 26 fields, saw 28\n",
      "Skipping line 18875: expected 26 fields, saw 28\n",
      "Skipping line 19934: expected 26 fields, saw 29\n",
      "Skipping line 19935: expected 26 fields, saw 27\n",
      "Skipping line 21269: expected 26 fields, saw 27\n",
      "Skipping line 24873: expected 26 fields, saw 29\n",
      "Skipping line 25003: expected 26 fields, saw 27\n",
      "Skipping line 25166: expected 26 fields, saw 27\n",
      "Skipping line 29862: expected 26 fields, saw 29\n",
      "Skipping line 29863: expected 26 fields, saw 27\n",
      "Skipping line 30327: expected 26 fields, saw 29\n",
      "Skipping line 30401: expected 26 fields, saw 29\n",
      "Skipping line 30771: expected 26 fields, saw 27\n",
      "Skipping line 31038: expected 26 fields, saw 27\n",
      "Skipping line 31330: expected 26 fields, saw 27\n",
      "Skipping line 31331: expected 26 fields, saw 27\n",
      "Skipping line 32291: expected 26 fields, saw 27\n",
      "Skipping line 33060: expected 26 fields, saw 28\n",
      "\n",
      "Skipping line 37343: expected 26 fields, saw 27\n",
      "Skipping line 39764: expected 26 fields, saw 28\n",
      "Skipping line 40880: expected 26 fields, saw 28\n",
      "Skipping line 42011: expected 26 fields, saw 28\n",
      "Skipping line 42136: expected 26 fields, saw 28\n",
      "Skipping line 42138: expected 26 fields, saw 27\n",
      "Skipping line 42139: expected 26 fields, saw 27\n",
      "Skipping line 42141: expected 26 fields, saw 29\n",
      "Skipping line 42142: expected 26 fields, saw 27\n",
      "Skipping line 42155: expected 26 fields, saw 29\n",
      "Skipping line 42301: expected 26 fields, saw 28\n",
      "Skipping line 42781: expected 26 fields, saw 29\n",
      "Skipping line 45980: expected 26 fields, saw 28\n",
      "Skipping line 50058: expected 26 fields, saw 28\n",
      "\n",
      "Skipping line 142405: expected 26 fields, saw 29\n",
      "Skipping line 154078: expected 26 fields, saw 28\n",
      "Skipping line 154079: expected 26 fields, saw 36\n",
      "Skipping line 154087: expected 26 fields, saw 28\n",
      "Skipping line 155118: expected 26 fields, saw 28\n",
      "\n",
      "Skipping line 180453: expected 26 fields, saw 28\n",
      "Skipping line 180454: expected 26 fields, saw 36\n",
      "Skipping line 180586: expected 26 fields, saw 28\n",
      "Skipping line 182957: expected 26 fields, saw 27\n",
      "Skipping line 184581: expected 26 fields, saw 28\n",
      "Skipping line 184582: expected 26 fields, saw 36\n",
      "Skipping line 185045: expected 26 fields, saw 28\n",
      "\n",
      "Skipping line 222300: expected 26 fields, saw 27\n",
      "\n",
      "Skipping line 243487: expected 26 fields, saw 28\n",
      "Skipping line 250899: expected 26 fields, saw 28\n",
      "Skipping line 258775: expected 26 fields, saw 27\n",
      "Skipping line 262279: expected 26 fields, saw 27\n",
      "Skipping line 262660: expected 26 fields, saw 27\n",
      "Skipping line 263321: expected 26 fields, saw 29\n",
      "\n",
      "Skipping line 264901: expected 26 fields, saw 29\n",
      "Skipping line 265434: expected 26 fields, saw 27\n",
      "Skipping line 266157: expected 26 fields, saw 29\n",
      "Skipping line 271972: expected 26 fields, saw 27\n",
      "Skipping line 280380: expected 26 fields, saw 27\n",
      "Skipping line 287368: expected 26 fields, saw 27\n",
      "\n",
      "Skipping line 323758: expected 26 fields, saw 28\n",
      "\n"
     ]
    }
   ],
   "source": []
  },
  {
   "cell_type": "code",
   "execution_count": 88,
   "metadata": {
    "collapsed": true
   },
   "outputs": [],
   "source": [
    "dm_pay=df.merge(pay,how='left',on='FILING_ID')"
   ]
  },
  {
   "cell_type": "code",
   "execution_count": 39,
   "metadata": {
    "collapsed": false
   },
   "outputs": [],
   "source": [
    "#dm_pay[dm_pay.FEES_AMT>0].sort_values('report_date')"
   ]
  },
  {
   "cell_type": "code",
   "execution_count": null,
   "metadata": {
    "collapsed": true
   },
   "outputs": [],
   "source": []
  }
 ],
 "metadata": {
  "kernelspec": {
   "display_name": "Python [Root]",
   "language": "python",
   "name": "Python [Root]"
  },
  "language_info": {
   "codemirror_mode": {
    "name": "ipython",
    "version": 2
   },
   "file_extension": ".py",
   "mimetype": "text/x-python",
   "name": "python",
   "nbconvert_exporter": "python",
   "pygments_lexer": "ipython2",
   "version": "2.7.12"
  }
 },
 "nbformat": 4,
 "nbformat_minor": 0
}
