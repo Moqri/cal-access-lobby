{
 "cells": [
  {
   "cell_type": "code",
   "execution_count": 1,
   "metadata": {
    "collapsed": false
   },
   "outputs": [],
   "source": [
    "import pandas as pd\n",
    "pd.options.display.max_columns=99\n",
    "pd.options.display.max_rows=99\n",
    "import numpy as np\n",
    "\n",
    "%matplotlib inline\n",
    "\n",
    "def tab_df(df_file,n):\n",
    "    df_array=[]\n",
    "    with open (df_file) as f:\n",
    "        l=0\n",
    "        for line in f:\n",
    "            row=((line.split('\\t')))\n",
    "            if len(row)==n:\n",
    "                df_array.append(row)\n",
    "                l+=1\n",
    "    columns=df_array[0]\n",
    "    df_array.pop(0)\n",
    "    df=pd.DataFrame(df_array,columns=columns)\n",
    "    print df.shape\n",
    "    return df"
   ]
  },
  {
   "cell_type": "code",
   "execution_count": 32,
   "metadata": {
    "collapsed": false,
    "scrolled": true
   },
   "outputs": [
    {
     "name": "stdout",
     "output_type": "stream",
     "text": [
      "(301286, 52)\n"
     ]
    },
    {
     "data": {
      "text/plain": [
       "(301286, 3)"
      ]
     },
     "execution_count": 32,
     "metadata": {},
     "output_type": "execute_result"
    }
   ],
   "source": [
    "path=\"../data/\"\n",
    "cvr_file=path+'CVR_LOBBY_DISCLOSURE_CD.TSV'\n",
    "cvr=tab_df(cvr_file,52)\n",
    "cvr_cut=cvr[['FILING_ID','AMEND_ID','FILER_NAML']].reset_index(drop=True)\n",
    "cvr_cut.shape"
   ]
  },
  {
   "cell_type": "code",
   "execution_count": 39,
   "metadata": {
    "collapsed": false
   },
   "outputs": [
    {
     "name": "stdout",
     "output_type": "stream",
     "text": [
      "(8593623, 9)\n"
     ]
    },
    {
     "data": {
      "text/plain": [
       "(188211, 3)"
      ]
     },
     "execution_count": 39,
     "metadata": {},
     "output_type": "execute_result"
    }
   ],
   "source": [
    "sum_file=path+'SMRY_CD.TSV'\n",
    "summ=tab_df(sum_file,9)\n",
    "sum_cut=summ[summ.LINE_ITEM=='ABCD'][['FILING_ID','AMEND_ID','AMOUNT_A']].reset_index(drop=True)\n",
    "sum_cut.shape"
   ]
  },
  {
   "cell_type": "code",
   "execution_count": 75,
   "metadata": {
    "collapsed": false
   },
   "outputs": [
    {
     "name": "stdout",
     "output_type": "stream",
     "text": [
      "(1946168, 16)\n"
     ]
    },
    {
     "data": {
      "text/plain": [
       "(1946168, 3)"
      ]
     },
     "execution_count": 75,
     "metadata": {},
     "output_type": "execute_result"
    }
   ],
   "source": [
    "fil_file=path+'FILER_FILINGS_CD.TSV'\n",
    "fil=tab_df(fil_file,16)\n",
    "fil_cut=fil[['FILING_ID','FILING_SEQUENCE','FILING_DATE']].reset_index(drop=True)\n",
    "fil_cut.shape"
   ]
  },
  {
   "cell_type": "code",
   "execution_count": 76,
   "metadata": {
    "collapsed": false
   },
   "outputs": [],
   "source": [
    "cvr_cut['FILING_ID']=pd.to_numeric(cvr_cut.FILING_ID)\n",
    "fil_cut['FILING_ID']=pd.to_numeric(fil_cut.FILING_ID)\n",
    "sum_cut['FILING_ID']=pd.to_numeric(sum_cut.FILING_ID)\n",
    "sum_cut['AMOUNT_A']=pd.to_numeric(sum_cut.AMOUNT_A)"
   ]
  },
  {
   "cell_type": "code",
   "execution_count": 77,
   "metadata": {
    "collapsed": false
   },
   "outputs": [],
   "source": [
    "cf=cvr_cut.merge(fil_cut,how='left',left_on=['FILING_ID','AMEND_ID'], right_on=['FILING_ID','FILING_SEQUENCE'])"
   ]
  },
  {
   "cell_type": "code",
   "execution_count": 78,
   "metadata": {
    "collapsed": false
   },
   "outputs": [
    {
     "data": {
      "text/plain": [
       "(301286, 6)"
      ]
     },
     "execution_count": 78,
     "metadata": {},
     "output_type": "execute_result"
    }
   ],
   "source": [
    "cfs=cf.merge(sum_cut,how='left',on=['FILING_ID','AMEND_ID'])\n",
    "cfs.shape"
   ]
  },
  {
   "cell_type": "code",
   "execution_count": 79,
   "metadata": {
    "collapsed": false
   },
   "outputs": [],
   "source": [
    "cfs['FILING_DATE']=pd.to_datetime(cfs.FILING_DATE,errors='coerce')"
   ]
  },
  {
   "cell_type": "code",
   "execution_count": 80,
   "metadata": {
    "collapsed": false
   },
   "outputs": [],
   "source": [
    "cfs['filing_year']=cfs.FILING_DATE.dt.year\n",
    "cfs16=cfs[cfs.FILING_DATE.dt.year==2016]"
   ]
  },
  {
   "cell_type": "code",
   "execution_count": 81,
   "metadata": {
    "collapsed": false
   },
   "outputs": [
    {
     "data": {
      "text/plain": [
       "(23524, 7)"
      ]
     },
     "execution_count": 81,
     "metadata": {},
     "output_type": "execute_result"
    }
   ],
   "source": [
    "cfs16.shape"
   ]
  },
  {
   "cell_type": "code",
   "execution_count": 82,
   "metadata": {
    "collapsed": false
   },
   "outputs": [
    {
     "data": {
      "text/html": [
       "<div>\n",
       "<table border=\"1\" class=\"dataframe\">\n",
       "  <thead>\n",
       "    <tr style=\"text-align: right;\">\n",
       "      <th></th>\n",
       "      <th>FILING_ID</th>\n",
       "      <th>AMEND_ID</th>\n",
       "      <th>FILER_NAML</th>\n",
       "      <th>FILING_SEQUENCE</th>\n",
       "      <th>FILING_DATE</th>\n",
       "      <th>AMOUNT_A</th>\n",
       "      <th>filing_year</th>\n",
       "    </tr>\n",
       "  </thead>\n",
       "  <tbody>\n",
       "    <tr>\n",
       "      <th>289220</th>\n",
       "      <td>2038285</td>\n",
       "      <td>0</td>\n",
       "      <td>CHEVRON CORPORATION AND ITS SUBSIDIARIES</td>\n",
       "      <td>0</td>\n",
       "      <td>2016-05-02 15:31:18</td>\n",
       "      <td>797795.17</td>\n",
       "      <td>2016.0</td>\n",
       "    </tr>\n",
       "    <tr>\n",
       "      <th>299726</th>\n",
       "      <td>2038285</td>\n",
       "      <td>1</td>\n",
       "      <td>CHEVRON CORPORATION AND ITS SUBSIDIARIES</td>\n",
       "      <td>1</td>\n",
       "      <td>2016-12-12 16:37:32</td>\n",
       "      <td>802187.71</td>\n",
       "      <td>2016.0</td>\n",
       "    </tr>\n",
       "  </tbody>\n",
       "</table>\n",
       "</div>"
      ],
      "text/plain": [
       "        FILING_ID AMEND_ID                                FILER_NAML  \\\n",
       "289220    2038285        0  CHEVRON CORPORATION AND ITS SUBSIDIARIES   \n",
       "299726    2038285        1  CHEVRON CORPORATION AND ITS SUBSIDIARIES   \n",
       "\n",
       "       FILING_SEQUENCE         FILING_DATE   AMOUNT_A  filing_year  \n",
       "289220               0 2016-05-02 15:31:18  797795.17       2016.0  \n",
       "299726               1 2016-12-12 16:37:32  802187.71       2016.0  "
      ]
     },
     "execution_count": 82,
     "metadata": {},
     "output_type": "execute_result"
    }
   ],
   "source": [
    "cfs16[cfs16.FILING_ID==2038285]"
   ]
  },
  {
   "cell_type": "code",
   "execution_count": 83,
   "metadata": {
    "collapsed": false
   },
   "outputs": [
    {
     "data": {
      "text/plain": [
       "(10990, 7)"
      ]
     },
     "execution_count": 83,
     "metadata": {},
     "output_type": "execute_result"
    }
   ],
   "source": [
    "cfs16=cfs16[~cfs16.AMOUNT_A.isnull()]\n",
    "cfs16=cfs16[cfs16.AMOUNT_A>0]\n",
    "cfs16.reset_index(inplace=True,drop=True)\n",
    "cfs16.shape"
   ]
  },
  {
   "cell_type": "code",
   "execution_count": 84,
   "metadata": {
    "collapsed": false
   },
   "outputs": [
    {
     "data": {
      "text/plain": [
       "(10990, 7)"
      ]
     },
     "execution_count": 84,
     "metadata": {},
     "output_type": "execute_result"
    }
   ],
   "source": [
    "cfs16.to_csv(path+\"lobbying_reports.csv\",index=False,date_format=\"%Y-%m-%d\")\n",
    "cfs16.shape"
   ]
  },
  {
   "cell_type": "code",
   "execution_count": 134,
   "metadata": {
    "collapsed": false
   },
   "outputs": [],
   "source": [
    "#cfs16.sort_values('report_date',ascending=False)"
   ]
  },
  {
   "cell_type": "code",
   "execution_count": null,
   "metadata": {
    "collapsed": true
   },
   "outputs": [],
   "source": []
  }
 ],
 "metadata": {
  "kernelspec": {
   "display_name": "Python [Root]",
   "language": "python",
   "name": "Python [Root]"
  },
  "language_info": {
   "codemirror_mode": {
    "name": "ipython",
    "version": 2
   },
   "file_extension": ".py",
   "mimetype": "text/x-python",
   "name": "python",
   "nbconvert_exporter": "python",
   "pygments_lexer": "ipython2",
   "version": "2.7.12"
  }
 },
 "nbformat": 4,
 "nbformat_minor": 0
}
