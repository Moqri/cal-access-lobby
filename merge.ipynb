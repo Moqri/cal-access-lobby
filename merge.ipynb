{
 "cells": [
  {
   "cell_type": "code",
   "execution_count": 1,
   "metadata": {
    "collapsed": false
   },
   "outputs": [],
   "source": [
    "import pandas as pd\n",
    "pd.options.display.max_columns=99\n",
    "pd.options.display.max_rows=99\n",
    "import numpy as np\n",
    "\n",
    "%matplotlib inline\n",
    "\n",
    "def tab_df(df_file,n):\n",
    "    df_array=[]\n",
    "    with open (df_file) as f:\n",
    "        l=0\n",
    "        for line in f:\n",
    "            row=((line.split('\\t')))\n",
    "            if len(row)==n:\n",
    "                df_array.append(row)\n",
    "                l+=1\n",
    "    columns=df_array[0]\n",
    "    df_array.pop(0)\n",
    "    df=pd.DataFrame(df_array,columns=columns)\n",
    "    print df.shape\n",
    "    return df"
   ]
  },
  {
   "cell_type": "code",
   "execution_count": 32,
   "metadata": {
    "collapsed": false,
    "scrolled": true
   },
   "outputs": [
    {
     "name": "stdout",
     "output_type": "stream",
     "text": [
      "(301286, 52)\n"
     ]
    },
    {
     "data": {
      "text/plain": [
       "(301286, 3)"
      ]
     },
     "execution_count": 32,
     "metadata": {},
     "output_type": "execute_result"
    }
   ],
   "source": [
    "path=\"../data/\"\n",
    "cvr_file=path+'CVR_LOBBY_DISCLOSURE_CD.TSV'\n",
    "cvr=tab_df(cvr_file,52)\n",
    "cvr_cut=cvr[['FILING_ID','AMEND_ID','FILER_NAML']].reset_index(drop=True)\n",
    "cvr_cut.shape"
   ]
  },
  {
   "cell_type": "code",
   "execution_count": 39,
   "metadata": {
    "collapsed": false
   },
   "outputs": [
    {
     "name": "stdout",
     "output_type": "stream",
     "text": [
      "(8593623, 9)\n"
     ]
    },
    {
     "data": {
      "text/plain": [
       "(188211, 3)"
      ]
     },
     "execution_count": 39,
     "metadata": {},
     "output_type": "execute_result"
    }
   ],
   "source": [
    "sum_file=path+'SMRY_CD.TSV'\n",
    "summ=tab_df(sum_file,9)\n",
    "sum_cut=summ[summ.LINE_ITEM=='ABCD'][['FILING_ID','AMEND_ID','AMOUNT_A']].reset_index(drop=True)\n",
    "sum_cut.shape"
   ]
  },
  {
   "cell_type": "code",
   "execution_count": 22,
   "metadata": {
    "collapsed": false
   },
   "outputs": [
    {
     "name": "stdout",
     "output_type": "stream",
     "text": [
      "(1946168, 16)\n"
     ]
    },
    {
     "data": {
      "text/plain": [
       "(1946168, 4)"
      ]
     },
     "execution_count": 22,
     "metadata": {},
     "output_type": "execute_result"
    }
   ],
   "source": [
    "fil_file=path+'FILER_FILINGS_CD.TSV'\n",
    "fil=tab_df(fil_file,16)\n",
    "fil_cut=fil[['FILING_ID','FILING_SEQUENCE','FILING_DATE']].reset_index()\n",
    "fil_cut.shape"
   ]
  },
  {
   "cell_type": "code",
   "execution_count": 40,
   "metadata": {
    "collapsed": false
   },
   "outputs": [],
   "source": [
    "cvr_cut['FILING_ID']=pd.to_numeric(cvr_cut.FILING_ID)\n",
    "fil_cut['FILING_ID']=pd.to_numeric(fil_cut.FILING_ID)\n",
    "sum_cut['FILING_ID']=pd.to_numeric(sum_cut.FILING_ID)"
   ]
  },
  {
   "cell_type": "code",
   "execution_count": 41,
   "metadata": {
    "collapsed": false
   },
   "outputs": [],
   "source": [
    "cf=cvr_cut.merge(fil_cut,how='left',left_on=['FILING_ID','AMEND_ID'], right_on=['FILING_ID','FILING_SEQUENCE'])"
   ]
  },
  {
   "cell_type": "code",
   "execution_count": 42,
   "metadata": {
    "collapsed": true
   },
   "outputs": [],
   "source": [
    "cfs=cf.merge(sum_cut,how='left',on=['FILING_ID','AMEND_ID'])"
   ]
  },
  {
   "cell_type": "code",
   "execution_count": 45,
   "metadata": {
    "collapsed": false
   },
   "outputs": [
    {
     "data": {
      "text/html": [
       "<div>\n",
       "<table border=\"1\" class=\"dataframe\">\n",
       "  <thead>\n",
       "    <tr style=\"text-align: right;\">\n",
       "      <th></th>\n",
       "      <th>FILING_ID</th>\n",
       "      <th>AMEND_ID</th>\n",
       "      <th>FILER_NAML</th>\n",
       "      <th>index</th>\n",
       "      <th>FILING_SEQUENCE</th>\n",
       "      <th>FILING_DATE</th>\n",
       "      <th>AMOUNT_A</th>\n",
       "    </tr>\n",
       "  </thead>\n",
       "  <tbody>\n",
       "    <tr>\n",
       "      <th>298927</th>\n",
       "      <td>2096383</td>\n",
       "      <td>0</td>\n",
       "      <td>INVESTMENT COMPANY INSTITUTE</td>\n",
       "      <td>1936482.0</td>\n",
       "      <td>0</td>\n",
       "      <td>10/26/2016 2:07:32 PM</td>\n",
       "      <td>0</td>\n",
       "    </tr>\n",
       "    <tr>\n",
       "      <th>299133</th>\n",
       "      <td>2096383</td>\n",
       "      <td>1</td>\n",
       "      <td>INVESTMENT COMPANY INSTITUTE</td>\n",
       "      <td>1946039.0</td>\n",
       "      <td>1</td>\n",
       "      <td>12/13/2016 10:24:45 AM</td>\n",
       "      <td>0</td>\n",
       "    </tr>\n",
       "  </tbody>\n",
       "</table>\n",
       "</div>"
      ],
      "text/plain": [
       "        FILING_ID AMEND_ID                    FILER_NAML      index  \\\n",
       "298927    2096383        0  INVESTMENT COMPANY INSTITUTE  1936482.0   \n",
       "299133    2096383        1  INVESTMENT COMPANY INSTITUTE  1946039.0   \n",
       "\n",
       "       FILING_SEQUENCE             FILING_DATE AMOUNT_A  \n",
       "298927               0   10/26/2016 2:07:32 PM        0  \n",
       "299133               1  12/13/2016 10:24:45 AM        0  "
      ]
     },
     "execution_count": 45,
     "metadata": {},
     "output_type": "execute_result"
    }
   ],
   "source": [
    "cfs[cfs.FILING_ID==2096383]"
   ]
  },
  {
   "cell_type": "code",
   "execution_count": 127,
   "metadata": {
    "collapsed": false
   },
   "outputs": [],
   "source": [
    "cvr['report_date']=pd.to_datetime(cvr.RPT_DATE,errors='coerce')"
   ]
  },
  {
   "cell_type": "code",
   "execution_count": 128,
   "metadata": {
    "collapsed": false
   },
   "outputs": [],
   "source": [
    "cvr['report_year']=cvr.report_date.dt.year"
   ]
  },
  {
   "cell_type": "code",
   "execution_count": 129,
   "metadata": {
    "collapsed": false
   },
   "outputs": [
    {
     "data": {
      "text/plain": [
       "(23386, 54)"
      ]
     },
     "execution_count": 129,
     "metadata": {},
     "output_type": "execute_result"
    }
   ],
   "source": [
    "df=cvr[cvr.report_date.dt.year==2016]\n",
    "df.shape"
   ]
  },
  {
   "cell_type": "code",
   "execution_count": 147,
   "metadata": {
    "collapsed": false
   },
   "outputs": [
    {
     "data": {
      "text/plain": [
       "(23386, 62)"
      ]
     },
     "execution_count": 147,
     "metadata": {},
     "output_type": "execute_result"
    }
   ],
   "source": [
    "dm=df.merge(sum_cut,how='left',on=['FILING_ID','AMEND_ID'])\n",
    "dm.shape"
   ]
  },
  {
   "cell_type": "code",
   "execution_count": 156,
   "metadata": {
    "collapsed": false
   },
   "outputs": [
    {
     "data": {
      "text/html": [
       "<div>\n",
       "<table border=\"1\" class=\"dataframe\">\n",
       "  <thead>\n",
       "    <tr style=\"text-align: right;\">\n",
       "      <th></th>\n",
       "      <th>FILING_ID</th>\n",
       "      <th>AMEND_ID</th>\n",
       "      <th>REC_TYPE_x</th>\n",
       "      <th>FORM_TYPE_x</th>\n",
       "      <th>SENDER_ID</th>\n",
       "      <th>FILER_ID</th>\n",
       "      <th>ENTITY_CD</th>\n",
       "      <th>FILER_NAML</th>\n",
       "      <th>FILER_NAMF</th>\n",
       "      <th>FILER_NAMT</th>\n",
       "      <th>FILER_NAMS</th>\n",
       "      <th>REPORT_NUM</th>\n",
       "      <th>RPT_DATE</th>\n",
       "      <th>FROM_DATE</th>\n",
       "      <th>THRU_DATE</th>\n",
       "      <th>CUM_BEG_DT</th>\n",
       "      <th>FIRM_ID</th>\n",
       "      <th>FIRM_NAME</th>\n",
       "      <th>FIRM_CITY</th>\n",
       "      <th>FIRM_ST</th>\n",
       "      <th>FIRM_ZIP4</th>\n",
       "      <th>FIRM_PHON</th>\n",
       "      <th>MAIL_CITY</th>\n",
       "      <th>MAIL_ST</th>\n",
       "      <th>MAIL_ZIP4</th>\n",
       "      <th>MAIL_PHON</th>\n",
       "      <th>SIG_DATE</th>\n",
       "      <th>SIG_LOC</th>\n",
       "      <th>SIG_NAML</th>\n",
       "      <th>SIG_NAMF</th>\n",
       "      <th>SIG_NAMT</th>\n",
       "      <th>SIG_NAMS</th>\n",
       "      <th>PRN_NAML</th>\n",
       "      <th>PRN_NAMF</th>\n",
       "      <th>PRN_NAMT</th>\n",
       "      <th>PRN_NAMS</th>\n",
       "      <th>SIG_TITLE</th>\n",
       "      <th>NOPART1_CB</th>\n",
       "      <th>NOPART2_CB</th>\n",
       "      <th>PART1_1_CB</th>\n",
       "      <th>PART1_2_CB</th>\n",
       "      <th>CTRIB_N_CB</th>\n",
       "      <th>CTRIB_Y_CB</th>\n",
       "      <th>LBY_ACTVTY</th>\n",
       "      <th>LOBBY_N_CB</th>\n",
       "      <th>LOBBY_Y_CB</th>\n",
       "      <th>MAJOR_NAML</th>\n",
       "      <th>MAJOR_NAMF</th>\n",
       "      <th>MAJOR_NAMT</th>\n",
       "      <th>MAJOR_NAMS</th>\n",
       "      <th>RCPCMTE_NM</th>\n",
       "      <th>RCPCMTE_ID</th>\n",
       "      <th>report_date</th>\n",
       "      <th>report_year</th>\n",
       "      <th>index</th>\n",
       "      <th>LINE_ITEM</th>\n",
       "      <th>REC_TYPE_y</th>\n",
       "      <th>FORM_TYPE_y</th>\n",
       "      <th>AMOUNT_A</th>\n",
       "      <th>AMOUNT_B</th>\n",
       "      <th>AMOUNT_C</th>\n",
       "      <th>ELEC_DT</th>\n",
       "    </tr>\n",
       "  </thead>\n",
       "  <tbody>\n",
       "    <tr>\n",
       "      <th>11346</th>\n",
       "      <td>2038285</td>\n",
       "      <td>0</td>\n",
       "      <td>CVR</td>\n",
       "      <td>F635</td>\n",
       "      <td>E00352</td>\n",
       "      <td>E00352</td>\n",
       "      <td>LEM</td>\n",
       "      <td>CHEVRON CORPORATION AND ITS SUBSIDIARIES</td>\n",
       "      <td></td>\n",
       "      <td></td>\n",
       "      <td></td>\n",
       "      <td>000</td>\n",
       "      <td>4/30/2016 12:00:00 AM</td>\n",
       "      <td>1/1/2016 12:00:00 AM</td>\n",
       "      <td>3/31/2016 12:00:00 AM</td>\n",
       "      <td>1/1/2015 12:00:00 AM</td>\n",
       "      <td>E00352</td>\n",
       "      <td>CHEVRON CORPORATION AND ITS SUBSIDIARIES</td>\n",
       "      <td>SAN RAMON</td>\n",
       "      <td>CA</td>\n",
       "      <td>94583-0716</td>\n",
       "      <td>(925) 790-6454</td>\n",
       "      <td></td>\n",
       "      <td></td>\n",
       "      <td></td>\n",
       "      <td></td>\n",
       "      <td>4/30/2016 12:00:00 AM</td>\n",
       "      <td>SAN RAFAEL, CA</td>\n",
       "      <td>KAUNE</td>\n",
       "      <td>JASON D.</td>\n",
       "      <td></td>\n",
       "      <td></td>\n",
       "      <td>KAUNE</td>\n",
       "      <td>JASON D.</td>\n",
       "      <td></td>\n",
       "      <td></td>\n",
       "      <td>ATTORNEY &amp; AGENT FOR FILER</td>\n",
       "      <td></td>\n",
       "      <td></td>\n",
       "      <td></td>\n",
       "      <td></td>\n",
       "      <td>X</td>\n",
       "      <td></td>\n",
       "      <td>SEE ATTACHMENT 1</td>\n",
       "      <td></td>\n",
       "      <td></td>\n",
       "      <td></td>\n",
       "      <td></td>\n",
       "      <td></td>\n",
       "      <td></td>\n",
       "      <td></td>\n",
       "      <td>\\n</td>\n",
       "      <td>2016-04-30</td>\n",
       "      <td>2016.0</td>\n",
       "      <td>8161630.0</td>\n",
       "      <td>ABCD</td>\n",
       "      <td>SMRY</td>\n",
       "      <td>F635</td>\n",
       "      <td>797795.17</td>\n",
       "      <td></td>\n",
       "      <td></td>\n",
       "      <td>\\n</td>\n",
       "    </tr>\n",
       "    <tr>\n",
       "      <th>21827</th>\n",
       "      <td>2038285</td>\n",
       "      <td>1</td>\n",
       "      <td>CVR</td>\n",
       "      <td>F635</td>\n",
       "      <td>E00352</td>\n",
       "      <td>E00352</td>\n",
       "      <td>LEM</td>\n",
       "      <td>CHEVRON CORPORATION AND ITS SUBSIDIARIES</td>\n",
       "      <td></td>\n",
       "      <td></td>\n",
       "      <td></td>\n",
       "      <td>001</td>\n",
       "      <td>4/30/2016 12:00:00 AM</td>\n",
       "      <td>1/1/2016 12:00:00 AM</td>\n",
       "      <td>3/31/2016 12:00:00 AM</td>\n",
       "      <td>1/1/2015 12:00:00 AM</td>\n",
       "      <td>E00352</td>\n",
       "      <td>CHEVRON CORPORATION AND ITS SUBSIDIARIES</td>\n",
       "      <td>SAN RAMON</td>\n",
       "      <td>CA</td>\n",
       "      <td>94583-0716</td>\n",
       "      <td>(925) 790-6454</td>\n",
       "      <td></td>\n",
       "      <td></td>\n",
       "      <td></td>\n",
       "      <td></td>\n",
       "      <td>10/21/2016 12:00:00 AM</td>\n",
       "      <td>SAN RAFAEL, CA</td>\n",
       "      <td>KAUNE</td>\n",
       "      <td>JASON D.</td>\n",
       "      <td></td>\n",
       "      <td></td>\n",
       "      <td>KAUNE</td>\n",
       "      <td>JASON D.</td>\n",
       "      <td></td>\n",
       "      <td></td>\n",
       "      <td>ATTORNEY &amp; AGENT FOR FILER</td>\n",
       "      <td></td>\n",
       "      <td></td>\n",
       "      <td></td>\n",
       "      <td></td>\n",
       "      <td>X</td>\n",
       "      <td></td>\n",
       "      <td>SEE ATTACHMENT 1</td>\n",
       "      <td></td>\n",
       "      <td></td>\n",
       "      <td></td>\n",
       "      <td></td>\n",
       "      <td></td>\n",
       "      <td></td>\n",
       "      <td></td>\n",
       "      <td>\\n</td>\n",
       "      <td>2016-04-30</td>\n",
       "      <td>2016.0</td>\n",
       "      <td>8591931.0</td>\n",
       "      <td>ABCD</td>\n",
       "      <td>SMRY</td>\n",
       "      <td>F635</td>\n",
       "      <td>802187.71</td>\n",
       "      <td></td>\n",
       "      <td></td>\n",
       "      <td>\\n</td>\n",
       "    </tr>\n",
       "  </tbody>\n",
       "</table>\n",
       "</div>"
      ],
      "text/plain": [
       "       FILING_ID AMEND_ID REC_TYPE_x FORM_TYPE_x SENDER_ID FILER_ID ENTITY_CD  \\\n",
       "11346    2038285        0        CVR        F635    E00352   E00352       LEM   \n",
       "21827    2038285        1        CVR        F635    E00352   E00352       LEM   \n",
       "\n",
       "                                     FILER_NAML FILER_NAMF FILER_NAMT  \\\n",
       "11346  CHEVRON CORPORATION AND ITS SUBSIDIARIES                         \n",
       "21827  CHEVRON CORPORATION AND ITS SUBSIDIARIES                         \n",
       "\n",
       "      FILER_NAMS REPORT_NUM               RPT_DATE             FROM_DATE  \\\n",
       "11346                   000  4/30/2016 12:00:00 AM  1/1/2016 12:00:00 AM   \n",
       "21827                   001  4/30/2016 12:00:00 AM  1/1/2016 12:00:00 AM   \n",
       "\n",
       "                   THRU_DATE            CUM_BEG_DT FIRM_ID  \\\n",
       "11346  3/31/2016 12:00:00 AM  1/1/2015 12:00:00 AM  E00352   \n",
       "21827  3/31/2016 12:00:00 AM  1/1/2015 12:00:00 AM  E00352   \n",
       "\n",
       "                                      FIRM_NAME  FIRM_CITY FIRM_ST  \\\n",
       "11346  CHEVRON CORPORATION AND ITS SUBSIDIARIES  SAN RAMON      CA   \n",
       "21827  CHEVRON CORPORATION AND ITS SUBSIDIARIES  SAN RAMON      CA   \n",
       "\n",
       "        FIRM_ZIP4       FIRM_PHON MAIL_CITY MAIL_ST MAIL_ZIP4 MAIL_PHON  \\\n",
       "11346  94583-0716  (925) 790-6454                                         \n",
       "21827  94583-0716  (925) 790-6454                                         \n",
       "\n",
       "                     SIG_DATE         SIG_LOC SIG_NAML  SIG_NAMF SIG_NAMT  \\\n",
       "11346   4/30/2016 12:00:00 AM  SAN RAFAEL, CA    KAUNE  JASON D.            \n",
       "21827  10/21/2016 12:00:00 AM  SAN RAFAEL, CA    KAUNE  JASON D.            \n",
       "\n",
       "      SIG_NAMS PRN_NAML  PRN_NAMF PRN_NAMT PRN_NAMS  \\\n",
       "11346             KAUNE  JASON D.                     \n",
       "21827             KAUNE  JASON D.                     \n",
       "\n",
       "                        SIG_TITLE NOPART1_CB NOPART2_CB PART1_1_CB PART1_2_CB  \\\n",
       "11346  ATTORNEY & AGENT FOR FILER                                               \n",
       "21827  ATTORNEY & AGENT FOR FILER                                               \n",
       "\n",
       "      CTRIB_N_CB CTRIB_Y_CB        LBY_ACTVTY LOBBY_N_CB LOBBY_Y_CB  \\\n",
       "11346          X             SEE ATTACHMENT 1                         \n",
       "21827          X             SEE ATTACHMENT 1                         \n",
       "\n",
       "      MAJOR_NAML MAJOR_NAMF MAJOR_NAMT MAJOR_NAMS RCPCMTE_NM RCPCMTE_ID\\n  \\\n",
       "11346                                                                  \\n   \n",
       "21827                                                                  \\n   \n",
       "\n",
       "      report_date  report_year      index LINE_ITEM REC_TYPE_y FORM_TYPE_y  \\\n",
       "11346  2016-04-30       2016.0  8161630.0      ABCD       SMRY        F635   \n",
       "21827  2016-04-30       2016.0  8591931.0      ABCD       SMRY        F635   \n",
       "\n",
       "        AMOUNT_A AMOUNT_B AMOUNT_C ELEC_DT\\n  \n",
       "11346  797795.17                          \\n  \n",
       "21827  802187.71                          \\n  "
      ]
     },
     "execution_count": 156,
     "metadata": {},
     "output_type": "execute_result"
    }
   ],
   "source": [
    "dm[dm.FILING_ID==2038285]"
   ]
  },
  {
   "cell_type": "code",
   "execution_count": 131,
   "metadata": {
    "collapsed": false
   },
   "outputs": [
    {
     "data": {
      "text/plain": [
       "(11336, 56)"
      ]
     },
     "execution_count": 131,
     "metadata": {},
     "output_type": "execute_result"
    }
   ],
   "source": [
    "dm=dm[~dm.PER_TOTAL.isnull()]\n",
    "dm=dm[dm.PER_TOTAL>0]\n",
    "dm.reset_index(inplace=True,drop=True)\n",
    "dm.shape"
   ]
  },
  {
   "cell_type": "code",
   "execution_count": 132,
   "metadata": {
    "collapsed": false
   },
   "outputs": [
    {
     "data": {
      "text/plain": [
       "(11336, 6)"
      ]
     },
     "execution_count": 132,
     "metadata": {},
     "output_type": "execute_result"
    }
   ],
   "source": [
    "dm_cut=dm[['FILING_ID','AMEND_ID','report_date','FILER_NAML','PER_TOTAL','CUM_TOTAL']]\n",
    "dm_cut.shape"
   ]
  },
  {
   "cell_type": "code",
   "execution_count": 133,
   "metadata": {
    "collapsed": false
   },
   "outputs": [
    {
     "data": {
      "text/plain": [
       "(11336, 6)"
      ]
     },
     "execution_count": 133,
     "metadata": {},
     "output_type": "execute_result"
    }
   ],
   "source": [
    "dm_cut.to_csv(path+\"lobbying_reports.csv\",index=False,date_format=\"%Y-%m-%d\")\n",
    "dm_cut.shape"
   ]
  },
  {
   "cell_type": "code",
   "execution_count": 134,
   "metadata": {
    "collapsed": false
   },
   "outputs": [],
   "source": [
    "#dm_cut.sort_values('report_date',ascending=False)"
   ]
  },
  {
   "cell_type": "code",
   "execution_count": null,
   "metadata": {
    "collapsed": true
   },
   "outputs": [],
   "source": []
  }
 ],
 "metadata": {
  "kernelspec": {
   "display_name": "Python [Root]",
   "language": "python",
   "name": "Python [Root]"
  },
  "language_info": {
   "codemirror_mode": {
    "name": "ipython",
    "version": 2
   },
   "file_extension": ".py",
   "mimetype": "text/x-python",
   "name": "python",
   "nbconvert_exporter": "python",
   "pygments_lexer": "ipython2",
   "version": "2.7.12"
  }
 },
 "nbformat": 4,
 "nbformat_minor": 0
}
